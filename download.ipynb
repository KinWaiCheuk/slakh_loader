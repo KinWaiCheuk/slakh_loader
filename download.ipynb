{
 "cells": [
  {
   "cell_type": "code",
   "execution_count": 3,
   "id": "a1d3fed8-8ec1-4599-bf9f-0f0a41688d37",
   "metadata": {},
   "outputs": [],
   "source": [
    "import os\n",
    "import torchaudio\n",
    "from torchaudio.datasets.utils import (\n",
    "    download_url,\n",
    "    extract_archive,\n",
    ")\n",
    "\n",
    "from slakh_loader.preprocessing import create_notes, pack_audio_clips"
   ]
  },
  {
   "cell_type": "code",
   "execution_count": 2,
   "id": "6046a775-1725-4a2c-953d-2c76fa7a555b",
   "metadata": {},
   "outputs": [
    {
     "name": "stderr",
     "output_type": "stream",
     "text": [
      " 32%|███████████████████▏                                        | 412/1289 [01:37<03:27,  4.22it/s]\n"
     ]
    },
    {
     "ename": "KeyboardInterrupt",
     "evalue": "",
     "output_type": "error",
     "traceback": [
      "\u001b[0;31m---------------------------------------------------------------------------\u001b[0m",
      "\u001b[0;31mKeyboardInterrupt\u001b[0m                         Traceback (most recent call last)",
      "Input \u001b[0;32mIn [2]\u001b[0m, in \u001b[0;36m<cell line: 1>\u001b[0;34m()\u001b[0m\n\u001b[0;32m----> 1\u001b[0m \u001b[43mcreate_notes\u001b[49m\u001b[43m(\u001b[49m\u001b[38;5;124;43m'\u001b[39;49m\u001b[38;5;124;43m./slakh2100_flac_redux/\u001b[39;49m\u001b[38;5;124;43m'\u001b[39;49m\u001b[43m,\u001b[49m\u001b[43m \u001b[49m\n\u001b[1;32m      2\u001b[0m \u001b[43m             \u001b[49m\u001b[38;5;124;43m'\u001b[39;49m\u001b[38;5;124;43m./\u001b[39;49m\u001b[38;5;124;43m'\u001b[39;49m\u001b[43m,\u001b[49m\u001b[43m \u001b[49m\n\u001b[1;32m      3\u001b[0m \u001b[43m             \u001b[49m\u001b[38;5;124;43m'\u001b[39;49m\u001b[38;5;124;43mtrain\u001b[39;49m\u001b[38;5;124;43m'\u001b[39;49m\u001b[43m)\u001b[49m\n",
      "File \u001b[0;32m/workspace/raven_data/slakh_loader/slakh_loader/preprocessing.py:205\u001b[0m, in \u001b[0;36mcreate_notes\u001b[0;34m(path_dataset, workspace, split)\u001b[0m\n\u001b[1;32m    201\u001b[0m \u001b[38;5;66;03m# E.g., 'elektrik_guitar'.\u001b[39;00m\n\u001b[1;32m    202\u001b[0m \n\u001b[1;32m    203\u001b[0m \u001b[38;5;66;03m# Read MIDI file of a track\u001b[39;00m\n\u001b[1;32m    204\u001b[0m filename_midi \u001b[38;5;241m=\u001b[39m os\u001b[38;5;241m.\u001b[39mpath\u001b[38;5;241m.\u001b[39mjoin(path_dataset_split, piecename, \u001b[38;5;124m\"\u001b[39m\u001b[38;5;124mMIDI\u001b[39m\u001b[38;5;124m\"\u001b[39m, trackname \u001b[38;5;241m+\u001b[39m \u001b[38;5;124m\"\u001b[39m\u001b[38;5;124m.mid\u001b[39m\u001b[38;5;124m\"\u001b[39m)\n\u001b[0;32m--> 205\u001b[0m midi_data \u001b[38;5;241m=\u001b[39m \u001b[43mpretty_midi\u001b[49m\u001b[38;5;241;43m.\u001b[39;49m\u001b[43mPrettyMIDI\u001b[49m\u001b[43m(\u001b[49m\u001b[43mfilename_midi\u001b[49m\u001b[43m)\u001b[49m\n\u001b[1;32m    207\u001b[0m \u001b[38;5;28;01mif\u001b[39;00m \u001b[38;5;28mlen\u001b[39m(midi_data\u001b[38;5;241m.\u001b[39minstruments) \u001b[38;5;241m>\u001b[39m \u001b[38;5;241m1\u001b[39m:\n\u001b[1;32m    208\u001b[0m     \u001b[38;5;28;01mraise\u001b[39;00m \u001b[38;5;167;01mException\u001b[39;00m(\u001b[38;5;124m\"\u001b[39m\u001b[38;5;124mmulti-track midi\u001b[39m\u001b[38;5;124m\"\u001b[39m)\n",
      "File \u001b[0;32m~/anaconda3/envs/AudioLoader/lib/python3.8/site-packages/pretty_midi/pretty_midi.py:60\u001b[0m, in \u001b[0;36mPrettyMIDI.__init__\u001b[0;34m(self, midi_file, resolution, initial_tempo)\u001b[0m\n\u001b[1;32m     56\u001b[0m \u001b[38;5;28;01mif\u001b[39;00m midi_file \u001b[38;5;129;01mis\u001b[39;00m \u001b[38;5;129;01mnot\u001b[39;00m \u001b[38;5;28;01mNone\u001b[39;00m:\n\u001b[1;32m     57\u001b[0m     \u001b[38;5;66;03m# Load in the MIDI data using the midi module\u001b[39;00m\n\u001b[1;32m     58\u001b[0m     \u001b[38;5;28;01mif\u001b[39;00m \u001b[38;5;28misinstance\u001b[39m(midi_file, six\u001b[38;5;241m.\u001b[39mstring_types):\n\u001b[1;32m     59\u001b[0m         \u001b[38;5;66;03m# If a string was given, pass it as the string filename\u001b[39;00m\n\u001b[0;32m---> 60\u001b[0m         midi_data \u001b[38;5;241m=\u001b[39m \u001b[43mmido\u001b[49m\u001b[38;5;241;43m.\u001b[39;49m\u001b[43mMidiFile\u001b[49m\u001b[43m(\u001b[49m\u001b[43mfilename\u001b[49m\u001b[38;5;241;43m=\u001b[39;49m\u001b[43mmidi_file\u001b[49m\u001b[43m)\u001b[49m\n\u001b[1;32m     61\u001b[0m     \u001b[38;5;28;01melse\u001b[39;00m:\n\u001b[1;32m     62\u001b[0m         \u001b[38;5;66;03m# Otherwise, try passing it in as a file pointer\u001b[39;00m\n\u001b[1;32m     63\u001b[0m         midi_data \u001b[38;5;241m=\u001b[39m mido\u001b[38;5;241m.\u001b[39mMidiFile(file\u001b[38;5;241m=\u001b[39mmidi_file)\n",
      "File \u001b[0;32m~/anaconda3/envs/AudioLoader/lib/python3.8/site-packages/mido/midifiles/midifiles.py:324\u001b[0m, in \u001b[0;36mMidiFile.__init__\u001b[0;34m(self, filename, file, type, ticks_per_beat, charset, debug, clip, tracks)\u001b[0m\n\u001b[1;32m    322\u001b[0m \u001b[38;5;28;01melif\u001b[39;00m \u001b[38;5;28mself\u001b[39m\u001b[38;5;241m.\u001b[39mfilename \u001b[38;5;129;01mis\u001b[39;00m \u001b[38;5;129;01mnot\u001b[39;00m \u001b[38;5;28;01mNone\u001b[39;00m:\n\u001b[1;32m    323\u001b[0m     \u001b[38;5;28;01mwith\u001b[39;00m io\u001b[38;5;241m.\u001b[39mopen(filename, \u001b[38;5;124m'\u001b[39m\u001b[38;5;124mrb\u001b[39m\u001b[38;5;124m'\u001b[39m) \u001b[38;5;28;01mas\u001b[39;00m file:\n\u001b[0;32m--> 324\u001b[0m         \u001b[38;5;28;43mself\u001b[39;49m\u001b[38;5;241;43m.\u001b[39;49m\u001b[43m_load\u001b[49m\u001b[43m(\u001b[49m\u001b[43mfile\u001b[49m\u001b[43m)\u001b[49m\n",
      "File \u001b[0;32m~/anaconda3/envs/AudioLoader/lib/python3.8/site-packages/mido/midifiles/midifiles.py:359\u001b[0m, in \u001b[0;36mMidiFile._load\u001b[0;34m(self, infile)\u001b[0m\n\u001b[1;32m    356\u001b[0m \u001b[38;5;28;01mif\u001b[39;00m \u001b[38;5;28mself\u001b[39m\u001b[38;5;241m.\u001b[39mdebug:\n\u001b[1;32m    357\u001b[0m     _dbg(\u001b[38;5;124m'\u001b[39m\u001b[38;5;124mTrack \u001b[39m\u001b[38;5;132;01m{}\u001b[39;00m\u001b[38;5;124m:\u001b[39m\u001b[38;5;124m'\u001b[39m\u001b[38;5;241m.\u001b[39mformat(i))\n\u001b[0;32m--> 359\u001b[0m \u001b[38;5;28mself\u001b[39m\u001b[38;5;241m.\u001b[39mtracks\u001b[38;5;241m.\u001b[39mappend(\u001b[43mread_track\u001b[49m\u001b[43m(\u001b[49m\u001b[43minfile\u001b[49m\u001b[43m,\u001b[49m\n\u001b[1;32m    360\u001b[0m \u001b[43m                              \u001b[49m\u001b[43mdebug\u001b[49m\u001b[38;5;241;43m=\u001b[39;49m\u001b[38;5;28;43mself\u001b[39;49m\u001b[38;5;241;43m.\u001b[39;49m\u001b[43mdebug\u001b[49m\u001b[43m,\u001b[49m\n\u001b[1;32m    361\u001b[0m \u001b[43m                              \u001b[49m\u001b[43mclip\u001b[49m\u001b[38;5;241;43m=\u001b[39;49m\u001b[38;5;28;43mself\u001b[39;49m\u001b[38;5;241;43m.\u001b[39;49m\u001b[43mclip\u001b[49m\u001b[43m)\u001b[49m)\n",
      "File \u001b[0;32m~/anaconda3/envs/AudioLoader/lib/python3.8/site-packages/mido/midifiles/midifiles.py:223\u001b[0m, in \u001b[0;36mread_track\u001b[0;34m(infile, debug, clip)\u001b[0m\n\u001b[1;32m    221\u001b[0m     msg \u001b[38;5;241m=\u001b[39m read_sysex(infile, delta, clip)\n\u001b[1;32m    222\u001b[0m \u001b[38;5;28;01melse\u001b[39;00m:\n\u001b[0;32m--> 223\u001b[0m     msg \u001b[38;5;241m=\u001b[39m \u001b[43mread_message\u001b[49m\u001b[43m(\u001b[49m\u001b[43minfile\u001b[49m\u001b[43m,\u001b[49m\u001b[43m \u001b[49m\u001b[43mstatus_byte\u001b[49m\u001b[43m,\u001b[49m\u001b[43m \u001b[49m\u001b[43mpeek_data\u001b[49m\u001b[43m,\u001b[49m\u001b[43m \u001b[49m\u001b[43mdelta\u001b[49m\u001b[43m,\u001b[49m\u001b[43m \u001b[49m\u001b[43mclip\u001b[49m\u001b[43m)\u001b[49m\n\u001b[1;32m    225\u001b[0m track\u001b[38;5;241m.\u001b[39mappend(msg)\n\u001b[1;32m    227\u001b[0m \u001b[38;5;28;01mif\u001b[39;00m debug:\n",
      "File \u001b[0;32m~/anaconda3/envs/AudioLoader/lib/python3.8/site-packages/mido/midifiles/midifiles.py:138\u001b[0m, in \u001b[0;36mread_message\u001b[0;34m(infile, status_byte, peek_data, delta, clip)\u001b[0m\n\u001b[1;32m    135\u001b[0m         \u001b[38;5;28;01mif\u001b[39;00m byte \u001b[38;5;241m>\u001b[39m \u001b[38;5;241m127\u001b[39m:\n\u001b[1;32m    136\u001b[0m             \u001b[38;5;28;01mraise\u001b[39;00m \u001b[38;5;167;01mIOError\u001b[39;00m(\u001b[38;5;124m'\u001b[39m\u001b[38;5;124mdata byte must be in range 0..127\u001b[39m\u001b[38;5;124m'\u001b[39m)\n\u001b[0;32m--> 138\u001b[0m \u001b[38;5;28;01mreturn\u001b[39;00m \u001b[43mMessage\u001b[49m\u001b[38;5;241;43m.\u001b[39;49m\u001b[43mfrom_bytes\u001b[49m\u001b[43m(\u001b[49m\u001b[43m[\u001b[49m\u001b[43mstatus_byte\u001b[49m\u001b[43m]\u001b[49m\u001b[43m \u001b[49m\u001b[38;5;241;43m+\u001b[39;49m\u001b[43m \u001b[49m\u001b[43mdata_bytes\u001b[49m\u001b[43m,\u001b[49m\u001b[43m \u001b[49m\u001b[43mtime\u001b[49m\u001b[38;5;241;43m=\u001b[39;49m\u001b[43mdelta\u001b[49m\u001b[43m)\u001b[49m\n",
      "File \u001b[0;32m~/anaconda3/envs/AudioLoader/lib/python3.8/site-packages/mido/messages/messages.py:150\u001b[0m, in \u001b[0;36mMessage.from_bytes\u001b[0;34m(cl, data, time)\u001b[0m\n\u001b[1;32m    143\u001b[0m \u001b[38;5;124;03m\"\"\"Parse a byte encoded message.\u001b[39;00m\n\u001b[1;32m    144\u001b[0m \n\u001b[1;32m    145\u001b[0m \u001b[38;5;124;03mAccepts a byte string or any iterable of integers.\u001b[39;00m\n\u001b[1;32m    146\u001b[0m \n\u001b[1;32m    147\u001b[0m \u001b[38;5;124;03mThis is the reverse of msg.bytes() or msg.bin().\u001b[39;00m\n\u001b[1;32m    148\u001b[0m \u001b[38;5;124;03m\"\"\"\u001b[39;00m\n\u001b[1;32m    149\u001b[0m msg \u001b[38;5;241m=\u001b[39m cl\u001b[38;5;241m.\u001b[39m\u001b[38;5;21m__new__\u001b[39m(cl)\n\u001b[0;32m--> 150\u001b[0m msgdict \u001b[38;5;241m=\u001b[39m \u001b[43mdecode_message\u001b[49m\u001b[43m(\u001b[49m\u001b[43mdata\u001b[49m\u001b[43m,\u001b[49m\u001b[43m \u001b[49m\u001b[43mtime\u001b[49m\u001b[38;5;241;43m=\u001b[39;49m\u001b[43mtime\u001b[49m\u001b[43m)\u001b[49m\n\u001b[1;32m    151\u001b[0m \u001b[38;5;28;01mif\u001b[39;00m \u001b[38;5;124m'\u001b[39m\u001b[38;5;124mdata\u001b[39m\u001b[38;5;124m'\u001b[39m \u001b[38;5;129;01min\u001b[39;00m msgdict:\n\u001b[1;32m    152\u001b[0m     msgdict[\u001b[38;5;124m'\u001b[39m\u001b[38;5;124mdata\u001b[39m\u001b[38;5;124m'\u001b[39m] \u001b[38;5;241m=\u001b[39m SysexData(msgdict[\u001b[38;5;124m'\u001b[39m\u001b[38;5;124mdata\u001b[39m\u001b[38;5;124m'\u001b[39m])\n",
      "File \u001b[0;32m~/anaconda3/envs/AudioLoader/lib/python3.8/site-packages/mido/messages/decode.py:97\u001b[0m, in \u001b[0;36mdecode_message\u001b[0;34m(msg_bytes, time, check)\u001b[0m\n\u001b[1;32m     94\u001b[0m         \u001b[38;5;28;01mraise\u001b[39;00m \u001b[38;5;167;01mValueError\u001b[39;00m(\u001b[38;5;124m'\u001b[39m\u001b[38;5;124minvalid sysex end byte \u001b[39m\u001b[38;5;132;01m{!r}\u001b[39;00m\u001b[38;5;124m'\u001b[39m\u001b[38;5;241m.\u001b[39mformat(end))\n\u001b[1;32m     96\u001b[0m \u001b[38;5;28;01mif\u001b[39;00m check:\n\u001b[0;32m---> 97\u001b[0m     \u001b[43mcheck_data\u001b[49m\u001b[43m(\u001b[49m\u001b[43mdata\u001b[49m\u001b[43m)\u001b[49m\n\u001b[1;32m     99\u001b[0m \u001b[38;5;28;01mif\u001b[39;00m status_byte \u001b[38;5;129;01min\u001b[39;00m _SPECIAL_CASES:\n\u001b[1;32m    100\u001b[0m     \u001b[38;5;28;01mif\u001b[39;00m status_byte \u001b[38;5;129;01min\u001b[39;00m CHANNEL_MESSAGES:\n",
      "File \u001b[0;32m~/anaconda3/envs/AudioLoader/lib/python3.8/site-packages/mido/messages/checks.py:37\u001b[0m, in \u001b[0;36mcheck_data\u001b[0;34m(data_bytes)\u001b[0m\n\u001b[1;32m     35\u001b[0m \u001b[38;5;28;01mdef\u001b[39;00m \u001b[38;5;21mcheck_data\u001b[39m(data_bytes):\n\u001b[1;32m     36\u001b[0m     \u001b[38;5;28;01mfor\u001b[39;00m byte \u001b[38;5;129;01min\u001b[39;00m convert_py2_bytes(data_bytes):\n\u001b[0;32m---> 37\u001b[0m         \u001b[43mcheck_data_byte\u001b[49m\u001b[43m(\u001b[49m\u001b[43mbyte\u001b[49m\u001b[43m)\u001b[49m\n",
      "\u001b[0;31mKeyboardInterrupt\u001b[0m: "
     ]
    }
   ],
   "source": [
    "create_notes('./slakh2100_flac_redux/', \n",
    "             './', \n",
    "             'train')"
   ]
  },
  {
   "cell_type": "code",
   "execution_count": null,
   "id": "34de38cc-a5fb-4354-b507-bb287b304925",
   "metadata": {},
   "outputs": [
    {
     "name": "stderr",
     "output_type": "stream",
     "text": [
      "Packing train set audio clips:  64%|██████████████████▋          | 830/1289 [03:32<01:38,  4.64it/s]"
     ]
    }
   ],
   "source": [
    "pack_audio_clips('./slakh2100_flac_redux/', 'waveforms', 16000)"
   ]
  },
  {
   "cell_type": "code",
   "execution_count": 8,
   "id": "a6b8b892-0b35-4316-8242-efd9196c803a",
   "metadata": {},
   "outputs": [],
   "source": [
    "class Slack_Download():\n",
    "    def __init__(self,root):\n",
    "        self.url = \"https://zenodo.org/record/4599666/files/slakh2100_flac_redux.tar.gz?download=1\"\n",
    "        self.checksum = 'f4b71b6c45ac9b506f59788456b3f0c4'\n",
    "        self.root = root\n",
    "        self.ext_archive = '.tar.gz'\n",
    "        self.name_archive = 'slakh2100_flac_redux'\n",
    "        \n",
    "    def download(self):\n",
    "        if self.download:\n",
    "            if os.path.isdir(os.path.join(self.root, self.name_archive)):\n",
    "                print(f'{self.name_archive} folder exists, skipping download')\n",
    "                \n",
    "                # TODO convert to flac and pkl\n",
    "                # print(f'Converting csv files into tsv files')\n",
    "                # self.csv2tsv()\n",
    "                \n",
    "            elif os.path.isfile(os.path.join(self.root, self.name_archive+self.ext_archive)):\n",
    "                print(f'{self.name_archive+self.ext_archive} exists, skipping download')\n",
    "                print(f'Extracting {self.name_archive+self.ext_archive}')\n",
    "                extract_archive(os.path.join(self.root, self.name_archive+self.ext_archive))\n",
    "                \n",
    "                # TODO convert to flac and pkl\n",
    "                # print(f'Converting csv files into tsv files')\n",
    "                # self.csv2tsv()\n",
    "            else:\n",
    "                if not os.path.isdir(self.root):\n",
    "                    print(f'Creating download path = {self.root}')\n",
    "                    os.makedirs(os.path.join(self.root))\n",
    "                    \n",
    "                print(f'Downloading from {self.url}')\n",
    "                download_url(self.url, self.root, hash_value=self.checksum, hash_type='md5')\n",
    "                print(f'Extracting musicnet.tar.gz')\n",
    "                extract_archive(os.path.join(self.root, self.name_archive+self.ext_archive))\n",
    "                # TODO convert to flac and pkl\n",
    "                # print(f'Converting csv files into tsv files')\n",
    "                # self.csv2tsv()\n",
    "        \n",
    "        else:\n",
    "            if os.path.isdir(os.path.join(root, self.name_archive)):\n",
    "                print(f'{self.name_archive} folder found')\n",
    "            elif os.path.isfile(os.path.join(self.root, self.name_archive+self.ext_archive)):\n",
    "                print(f'{self.name_archive} folder not found, but {self.name_archive+self.ext_archive} exists')\n",
    "                print(f'Extracting {self.name_archive+self.ext_archive}')\n",
    "                extract_archive(os.path.join(self.root, self.name_archive+self.ext_archive))\n",
    "                # TODO convert to flac and pkl\n",
    "                # print(f'Converting csv files into tsv files')\n",
    "                # self.csv2tsv()\n",
    "            else:\n",
    "                raise ValueError(f'{root} does not contain the MAPS folder, '\n",
    "                                 f'please specify the correct path or download it by setting `download=True`')          "
   ]
  },
  {
   "cell_type": "code",
   "execution_count": 9,
   "id": "4c07ca28-87e1-40a0-b320-6a3324fdffb4",
   "metadata": {},
   "outputs": [],
   "source": [
    "downloader = Slack_Download('./')"
   ]
  },
  {
   "cell_type": "code",
   "execution_count": 10,
   "id": "96895dcd-e0dd-42cc-91db-47d5575cc266",
   "metadata": {},
   "outputs": [
    {
     "name": "stdout",
     "output_type": "stream",
     "text": [
      "slakh2100_flac_redux folder exists, skipping download\n"
     ]
    }
   ],
   "source": [
    "downloader.download()"
   ]
  },
  {
   "cell_type": "code",
   "execution_count": null,
   "id": "44fd0962-9afc-4539-a9b8-d91fce8a0654",
   "metadata": {},
   "outputs": [],
   "source": []
  },
  {
   "cell_type": "code",
   "execution_count": null,
   "id": "fdae7484-2a3a-4f8c-9ec6-7307da160f77",
   "metadata": {},
   "outputs": [],
   "source": []
  }
 ],
 "metadata": {
  "kernelspec": {
   "display_name": "AudioLoader",
   "language": "python",
   "name": "audioloader"
  },
  "language_info": {
   "codemirror_mode": {
    "name": "ipython",
    "version": 3
   },
   "file_extension": ".py",
   "mimetype": "text/x-python",
   "name": "python",
   "nbconvert_exporter": "python",
   "pygments_lexer": "ipython3",
   "version": "3.8.10"
  }
 },
 "nbformat": 4,
 "nbformat_minor": 5
}

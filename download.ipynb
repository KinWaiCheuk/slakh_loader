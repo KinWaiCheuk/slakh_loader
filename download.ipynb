{
 "cells": [
  {
   "cell_type": "code",
   "execution_count": 17,
   "id": "386a339c-b192-4e29-b768-86c4a993a8f2",
   "metadata": {},
   "outputs": [
    {
     "name": "stderr",
     "output_type": "stream",
     "text": [
      "/root/anaconda3/envs/AudioLoader/lib/python3.8/site-packages/tqdm/auto.py:22: TqdmWarning: IProgress not found. Please update jupyter and ipywidgets. See https://ipywidgets.readthedocs.io/en/stable/user_install.html\n",
      "  from .autonotebook import tqdm as notebook_tqdm\n"
     ]
    }
   ],
   "source": [
    "import os\n",
    "import torchaudio\n",
    "from torchaudio.datasets.utils import (\n",
    "    download_url,\n",
    "    extract_archive,\n",
    ")"
   ]
  },
  {
   "cell_type": "code",
   "execution_count": 24,
   "id": "a6b8b892-0b35-4316-8242-efd9196c803a",
   "metadata": {},
   "outputs": [],
   "source": [
    "class Slack_Download():\n",
    "    def __init__(self,root):\n",
    "        self.url = \"https://zenodo.org/record/4599666/files/slakh2100_flac_redux.tar.gz?download=1\"\n",
    "        self.checksum = 'f4b71b6c45ac9b506f59788456b3f0c4'\n",
    "        self.root = root\n",
    "        self.ext_archive = '.tar.gz'\n",
    "        self.name_archive = 'musicnet'\n",
    "        self.original_ext = '.wav'\n",
    "        \n",
    "    def download(self):\n",
    "        if self.download:\n",
    "            if os.path.isdir(os.path.join(self.root, self.name_archive)):\n",
    "                print(f'{self.name_archive} folder exists, skipping download')\n",
    "                \n",
    "                # TODO convert to flac and pkl\n",
    "                # print(f'Converting csv files into tsv files')\n",
    "                # self.csv2tsv()\n",
    "                \n",
    "            elif os.path.isfile(os.path.join(self.root, self.name_archive+self.ext_archive)):\n",
    "                print(f'{self.name_archive+self.ext_archive} exists, skipping download')\n",
    "                print(f'Extracting {self.name_archive+self.ext_archive}')\n",
    "                extract_archive(os.path.join(self.root, self.name_archive+self.ext_archive))\n",
    "                \n",
    "                # TODO convert to flac and pkl\n",
    "                # print(f'Converting csv files into tsv files')\n",
    "                # self.csv2tsv()\n",
    "            else:\n",
    "                if not os.path.isdir(self.root):\n",
    "                    print(f'Creating download path = {self.root}')\n",
    "                    os.makedirs(os.path.join(self.root))\n",
    "                    \n",
    "                print(f'Downloading from {self.url}')\n",
    "                download_url(self.url, self.root, hash_value=self.checksum, hash_type='md5')\n",
    "                print(f'Extracting musicnet.tar.gz')\n",
    "                extract_archive(os.path.join(self.root, self.name_archive+self.ext_archive))\n",
    "                print(f'Converting csv files into tsv files')\n",
    "                self.csv2tsv()\n",
    "        \n",
    "        else:\n",
    "            if os.path.isdir(os.path.join(root, self.name_archive)):\n",
    "                print(f'{self.name_archive} folder found')\n",
    "            elif os.path.isfile(os.path.join(self.root, self.name_archive+self.ext_archive)):\n",
    "                print(f'{self.name_archive} folder not found, but {self.name_archive+self.ext_archive} exists')\n",
    "                print(f'Extracting {self.name_archive+self.ext_archive}')\n",
    "                extract_archive(os.path.join(self.root, self.name_archive+self.ext_archive))\n",
    "                print(f'Converting csv files into tsv files')\n",
    "                self.csv2tsv()                \n",
    "            else:\n",
    "                raise ValueError(f'{root} does not contain the MAPS folder, '\n",
    "                                 f'please specify the correct path or download it by setting `download=True`')          "
   ]
  },
  {
   "cell_type": "code",
   "execution_count": 25,
   "id": "4c07ca28-87e1-40a0-b320-6a3324fdffb4",
   "metadata": {},
   "outputs": [],
   "source": [
    "downloader = Slack_Download('./')"
   ]
  },
  {
   "cell_type": "code",
   "execution_count": null,
   "id": "96895dcd-e0dd-42cc-91db-47d5575cc266",
   "metadata": {},
   "outputs": [
    {
     "name": "stdout",
     "output_type": "stream",
     "text": [
      "Downloading from https://zenodo.org/record/4599666/files/slakh2100_flac_redux.tar.gz?download=1\n"
     ]
    }
   ],
   "source": [
    "downloader.download()"
   ]
  },
  {
   "cell_type": "code",
   "execution_count": null,
   "id": "44fd0962-9afc-4539-a9b8-d91fce8a0654",
   "metadata": {},
   "outputs": [],
   "source": []
  }
 ],
 "metadata": {
  "kernelspec": {
   "display_name": "AudioLoader",
   "language": "python",
   "name": "audioloader"
  },
  "language_info": {
   "codemirror_mode": {
    "name": "ipython",
    "version": 3
   },
   "file_extension": ".py",
   "mimetype": "text/x-python",
   "name": "python",
   "nbconvert_exporter": "python",
   "pygments_lexer": "ipython3",
   "version": "3.8.10"
  }
 },
 "nbformat": 4,
 "nbformat_minor": 5
}
